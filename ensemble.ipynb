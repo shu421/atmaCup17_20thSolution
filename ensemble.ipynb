{
 "cells": [
  {
   "cell_type": "code",
   "execution_count": 5,
   "metadata": {},
   "outputs": [],
   "source": [
    "import pickle\n",
    "\n",
    "import numpy as np\n",
    "import pandas as pd\n",
    "from scipy.stats import rankdata\n",
    "from sklearn.metrics import roc_auc_score"
   ]
  },
  {
   "cell_type": "code",
   "execution_count": 14,
   "metadata": {},
   "outputs": [],
   "source": [
    "train_df = pd.read_csv(\"../data/train.csv\")\n",
    "test_df = pd.read_csv(\"../data/test.csv\")\n",
    "clothing_master_df = pd.read_csv(\"../data/clothing_master.csv\")\n",
    "sample_submission_df = pd.read_csv(\"../data/sample_submission.csv\")"
   ]
  },
  {
   "cell_type": "markdown",
   "metadata": {},
   "source": [
    "# Ensemble"
   ]
  },
  {
   "cell_type": "code",
   "execution_count": 15,
   "metadata": {},
   "outputs": [],
   "source": [
    "labels = train_df[\"recommended\"].to_numpy()"
   ]
  },
  {
   "cell_type": "code",
   "execution_count": 154,
   "metadata": {},
   "outputs": [],
   "source": [
    "oof1 = np.load(\"../outputs/exp014/oof.npy\")\n",
    "oof2 = np.load(\"../outputs/exp015/oof.npy\")\n",
    "oof3 = pickle.load(open(\"../outputs/oofexp017.pkl\", \"rb\"))\n",
    "oof4 = pickle.load(open(\"../outputs/oofexp021.pkl\", \"rb\"))\n",
    "oof5 = pickle.load(open(\"../outputs/oofexp022.pkl\", \"rb\"))\n",
    "oof6 = np.load(\"../outputs/exp024/oof.npy\")\n",
    "oof7 = np.load(\"../outputs/exp025/oof.npy\")\n",
    "\n",
    "\n",
    "test_pred1 = pd.read_csv(\"../outputs/exp014/submission_exp014.csv\")[\"target\"].to_numpy()\n",
    "test_pred2 = pd.read_csv(\"../outputs/exp015/submission_exp015.csv\")[\"target\"].to_numpy()\n",
    "test_pred3 = pd.read_csv(\"../outputs/submission_exp017.csv\")[\"target\"].to_numpy()\n",
    "test_pred4 = pd.read_csv(\"../outputs/submission_exp021.csv\")[\"target\"].to_numpy()\n",
    "test_pred5 = pd.read_csv(\"../outputs/submission_exp022.csv\")[\"target\"].to_numpy()\n",
    "test_pred6 = pd.read_csv(\"../outputs/exp024/submission_exp024.csv\")[\"target\"].to_numpy()\n",
    "test_pred7 = pd.read_csv(\"../outputs/exp025/submission_exp025.csv\")[\"target\"].to_numpy()"
   ]
  },
  {
   "cell_type": "code",
   "execution_count": 193,
   "metadata": {},
   "outputs": [
    {
     "data": {
      "text/plain": [
       "0.974144881508322"
      ]
     },
     "execution_count": 193,
     "metadata": {},
     "output_type": "execute_result"
    }
   ],
   "source": [
    "rank1 = rankdata(oof1, method=\"average\")\n",
    "rank2 = rankdata(oof2, method=\"average\")\n",
    "rank3 = rankdata(oof3, method=\"average\")\n",
    "rank4 = rankdata(oof4, method=\"average\")\n",
    "rank5 = rankdata(oof5, method=\"average\")\n",
    "rank6 = rankdata(oof6, method=\"average\")\n",
    "rank7 = rankdata(oof7, method=\"average\")\n",
    "\n",
    "rank_avg = rank1 + rank2 + rank4 + rank6 + rank7\n",
    "\n",
    "final_auc = roc_auc_score(labels, rank_avg)\n",
    "final_auc"
   ]
  },
  {
   "cell_type": "code",
   "execution_count": 194,
   "metadata": {},
   "outputs": [],
   "source": [
    "test_rank1 = rankdata(test_pred1, method=\"average\")\n",
    "test_rank2 = rankdata(test_pred2, method=\"average\")\n",
    "test_rank3 = rankdata(test_pred3, method=\"average\")\n",
    "test_rank4 = rankdata(test_pred4, method=\"average\")\n",
    "test_rank5 = rankdata(test_pred5, method=\"average\")\n",
    "test_rank6 = rankdata(test_pred6, method=\"average\")\n",
    "test_rank7 = rankdata(test_pred7, method=\"average\")\n",
    "\n",
    "test_rank_avg = test_rank1 + test_rank2 + test_rank4 + test_rank6 + test_rank7"
   ]
  },
  {
   "cell_type": "code",
   "execution_count": 195,
   "metadata": {},
   "outputs": [
    {
     "data": {
      "text/html": [
       "<div>\n",
       "<style scoped>\n",
       "    .dataframe tbody tr th:only-of-type {\n",
       "        vertical-align: middle;\n",
       "    }\n",
       "\n",
       "    .dataframe tbody tr th {\n",
       "        vertical-align: top;\n",
       "    }\n",
       "\n",
       "    .dataframe thead th {\n",
       "        text-align: right;\n",
       "    }\n",
       "</style>\n",
       "<table border=\"1\" class=\"dataframe\">\n",
       "  <thead>\n",
       "    <tr style=\"text-align: right;\">\n",
       "      <th></th>\n",
       "      <th>target</th>\n",
       "    </tr>\n",
       "  </thead>\n",
       "  <tbody>\n",
       "    <tr>\n",
       "      <th>0</th>\n",
       "      <td>48527.0</td>\n",
       "    </tr>\n",
       "    <tr>\n",
       "      <th>1</th>\n",
       "      <td>10199.0</td>\n",
       "    </tr>\n",
       "    <tr>\n",
       "      <th>2</th>\n",
       "      <td>35563.5</td>\n",
       "    </tr>\n",
       "    <tr>\n",
       "      <th>3</th>\n",
       "      <td>5291.0</td>\n",
       "    </tr>\n",
       "    <tr>\n",
       "      <th>4</th>\n",
       "      <td>27864.0</td>\n",
       "    </tr>\n",
       "    <tr>\n",
       "      <th>...</th>\n",
       "      <td>...</td>\n",
       "    </tr>\n",
       "    <tr>\n",
       "      <th>11150</th>\n",
       "      <td>33667.5</td>\n",
       "    </tr>\n",
       "    <tr>\n",
       "      <th>11151</th>\n",
       "      <td>43067.0</td>\n",
       "    </tr>\n",
       "    <tr>\n",
       "      <th>11152</th>\n",
       "      <td>43988.0</td>\n",
       "    </tr>\n",
       "    <tr>\n",
       "      <th>11153</th>\n",
       "      <td>41585.0</td>\n",
       "    </tr>\n",
       "    <tr>\n",
       "      <th>11154</th>\n",
       "      <td>52422.0</td>\n",
       "    </tr>\n",
       "  </tbody>\n",
       "</table>\n",
       "<p>11155 rows × 1 columns</p>\n",
       "</div>"
      ],
      "text/plain": [
       "        target\n",
       "0      48527.0\n",
       "1      10199.0\n",
       "2      35563.5\n",
       "3       5291.0\n",
       "4      27864.0\n",
       "...        ...\n",
       "11150  33667.5\n",
       "11151  43067.0\n",
       "11152  43988.0\n",
       "11153  41585.0\n",
       "11154  52422.0\n",
       "\n",
       "[11155 rows x 1 columns]"
      ]
     },
     "execution_count": 195,
     "metadata": {},
     "output_type": "execute_result"
    }
   ],
   "source": [
    "sample_submission_df[\"target\"] = test_rank_avg\n",
    "sample_submission_df.to_csv(\"../outputs/submission_ensemble009.csv\", index=False)\n",
    "sample_submission_df"
   ]
  },
  {
   "cell_type": "code",
   "execution_count": null,
   "metadata": {},
   "outputs": [],
   "source": []
  }
 ],
 "metadata": {
  "kernelspec": {
   "display_name": "Python 3 (ipykernel)",
   "language": "python",
   "name": "python3"
  },
  "language_info": {
   "codemirror_mode": {
    "name": "ipython",
    "version": 3
   },
   "file_extension": ".py",
   "mimetype": "text/x-python",
   "name": "python",
   "nbconvert_exporter": "python",
   "pygments_lexer": "ipython3",
   "version": "3.10.14"
  }
 },
 "nbformat": 4,
 "nbformat_minor": 2
}
